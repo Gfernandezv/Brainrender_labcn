{
 "cells": [
  {
   "cell_type": "markdown",
   "id": "524daf54-2e4c-493b-bd57-7e7201ccf536",
   "metadata": {},
   "source": [
    "# Cargar dependencias"
   ]
  },
  {
   "cell_type": "code",
   "execution_count": 1,
   "id": "f74b2c55-a3d0-45a1-9a5c-5a383236e3ae",
   "metadata": {
    "editable": true,
    "slideshow": {
     "slide_type": ""
    },
    "tags": []
   },
   "outputs": [],
   "source": [
    "from Graph import create_data, data_loader, graph, capturas\n",
    "import os\n",
    "\n",
    "sagital = {\n",
    "    \"pos\": (-1046.9756515348963, 1212.954955375364, -75871.55746288373),\n",
    "    \"viewup\": (0, -1, 0),\n",
    "    \"clipping_range\": (50000, 20000),\n",
    "}\n",
    "\n",
    "frontal = {\n",
    "    \"pos\": (-26645, 8244, -9576),\n",
    "    \"viewup\": (0, -1, 0),\n",
    "    \"clipping_range\": (19531, 40903),\n",
    "}\n",
    "\n",
    "top = {\n",
    "    \"pos\": (1073, -66580, -12129),\n",
    "    \"viewup\": (-1, 0, 0),\n",
    "    \"clipping_range\": (27262, 45988),\n",
    "}\n",
    "\n",
    "three_quarters_camera = {\n",
    "    \"pos\": (-22310.0, -3802.0, 13811.0),\n",
    "    \"viewup\": (0, -1, 0),\n",
    "    \"clipping_range\": (13625, 119925),\n",
    "}"
   ]
  },
  {
   "cell_type": "markdown",
   "id": "0411a5db-5bd1-43d9-bd09-86e96d6ce857",
   "metadata": {
    "editable": true,
    "slideshow": {
     "slide_type": ""
    },
    "tags": []
   },
   "source": [
    "# Visualizar"
   ]
  },
  {
   "cell_type": "markdown",
   "id": "d6a65538-fdcc-42aa-a086-84148a5c8b7b",
   "metadata": {},
   "source": [
    "## Definir regiones"
   ]
  },
  {
   "cell_type": "code",
   "execution_count": 2,
   "id": "2c99a92f-3c88-490f-bf5b-a5b6ff281acf",
   "metadata": {},
   "outputs": [],
   "source": [
    "region_name='CA1v'\n",
    "points = data_loader(region_name)"
   ]
  },
  {
   "cell_type": "markdown",
   "id": "49793f3e-dee8-4798-a5a0-28eda9a168de",
   "metadata": {
    "editable": true,
    "slideshow": {
     "slide_type": ""
    },
    "tags": []
   },
   "source": [
    "## Visualizacion.\n",
    "Si se desea guardar una muestra para captura, guarde"
   ]
  },
  {
   "cell_type": "code",
   "execution_count": null,
   "id": "4acdf115-5487-45d7-b230-429057804aab",
   "metadata": {
    "editable": true,
    "slideshow": {
     "slide_type": ""
    },
    "tags": []
   },
   "outputs": [],
   "source": [
    "scene = graph(points, camera_data=frontal, labels=True, interactive=True, mode=region_name)"
   ]
  },
  {
   "cell_type": "markdown",
   "id": "c33c7f17-685d-4732-ba87-7a766a8a1408",
   "metadata": {
    "editable": true,
    "slideshow": {
     "slide_type": ""
    },
    "tags": []
   },
   "source": [
    "## Generar imagenes"
   ]
  },
  {
   "cell_type": "code",
   "execution_count": 3,
   "id": "82b0e12a-8fcd-4e28-b820-f72ada924ca5",
   "metadata": {
    "editable": true,
    "slideshow": {
     "slide_type": ""
    },
    "tags": []
   },
   "outputs": [
    {
     "name": "stdout",
     "output_type": "stream",
     "text": [
      "🔄 Cargando configuración de cámara previa desde camera_data.npy\n"
     ]
    },
    {
     "data": {
      "text/html": [
       "<pre style=\"white-space:pre;overflow-x:auto;line-height:normal;font-family:Menlo,'DejaVu Sans Mono',consolas,'Courier New',monospace\">\n",
       "Saving new screenshot at CA1v.png\n",
       "\n",
       "</pre>\n"
      ],
      "text/plain": [
       "\n",
       "Saving new screenshot at CA1v.png\n",
       "\n"
      ]
     },
     "metadata": {},
     "output_type": "display_data"
    }
   ],
   "source": [
    "capturas(points, multi=False, region=region_name)"
   ]
  },
  {
   "cell_type": "markdown",
   "id": "47b04810-bf65-4d32-9150-86397dfda5cf",
   "metadata": {},
   "source": [
    "## Generar Video"
   ]
  },
  {
   "cell_type": "code",
   "execution_count": 4,
   "id": "967de6ce-8279-452a-a2a4-2535ac713bf7",
   "metadata": {},
   "outputs": [
    {
     "name": "stdout",
     "output_type": "stream",
     "text": [
      "\n",
      "📸 Características de la cámara después del renderizado:\n",
      "🔹 Posición: (-1046.9756515348963, 1212.954955375364, -75871.55746288373)\n",
      "🔹 Punto focal: (19875.263446974484, 9835.138681796356, -10496.311615995686)\n",
      "🔹 Vector de vista arriba: (0.0, -1.0, 0.0)\n",
      "🔹 Rango de recorte: (36491.252079315134, 111119.99832085014)\n",
      "💾 Configuración de cámara guardada en camera_data.npy\n"
     ]
    },
    {
     "data": {
      "text/html": [
       "<pre style=\"white-space:pre;overflow-x:auto;line-height:normal;font-family:Menlo,'DejaVu Sans Mono',consolas,'Courier New',monospace\"><span style=\"color: #ffca28; text-decoration-color: #ffca28\">Saving video in </span><span style=\"color: #ffa726; text-decoration-color: #ffa726\">D:\\OneDrive - Universidad Católica de Chile\\Script\\Phyton\\Brainrender</span>\n",
       "</pre>\n"
      ],
      "text/plain": [
       "\u001b[38;2;255;202;40mSaving video in \u001b[0m\u001b[38;2;255;167;38mD:\\OneDrive - Universidad Católica de Chile\\Script\\Phyton\\Brainrender\u001b[0m\n"
      ]
     },
     "metadata": {},
     "output_type": "display_data"
    },
    {
     "name": "stdout",
     "output_type": "stream",
     "text": [
      "\u001b[1m\u001b[35m📽  Video file CA1v is open... \u001b[0m"
     ]
    },
    {
     "data": {
      "application/vnd.jupyter.widget-view+json": {
       "model_id": "bb5b7b8fd1a44820b4331520c5e67666",
       "version_major": 2,
       "version_minor": 0
      },
      "text/plain": [
       "Output()"
      ]
     },
     "metadata": {},
     "output_type": "display_data"
    },
    {
     "data": {
      "text/html": [
       "<pre style=\"white-space:pre;overflow-x:auto;line-height:normal;font-family:Menlo,'DejaVu Sans Mono',consolas,'Courier New',monospace\"></pre>\n"
      ],
      "text/plain": []
     },
     "metadata": {},
     "output_type": "display_data"
    },
    {
     "data": {
      "text/html": [
       "<pre style=\"white-space:pre;overflow-x:auto;line-height:normal;font-family:Menlo,'DejaVu Sans Mono',consolas,'Courier New',monospace\"><span style=\"color: #ffe082; text-decoration-color: #ffe082\">Saving video</span>\n",
       "</pre>\n"
      ],
      "text/plain": [
       "\u001b[38;2;255;224;130mSaving video\u001b[0m\n"
      ]
     },
     "metadata": {},
     "output_type": "display_data"
    },
    {
     "data": {
      "text/html": [
       "<pre style=\"white-space:pre;overflow-x:auto;line-height:normal;font-family:Menlo,'DejaVu Sans Mono',consolas,'Courier New',monospace\"><span style=\"color: #ffca28; text-decoration-color: #ffca28\">Saved video at: </span><span style=\"color: #ffa726; text-decoration-color: #ffa726; font-weight: bold\">D:\\OneDrive - Universidad Católica de Chile\\Script\\Phyton\\Brainrender/CA1v.mp4</span>\n",
       "</pre>\n"
      ],
      "text/plain": [
       "\u001b[38;2;255;202;40mSaved video at: \u001b[0m\u001b[1;38;2;255;167;38mD:\\OneDrive - Universidad Católica de Chile\\Script\\Phyton\\Brainrender/CA1v.mp4\u001b[0m\n"
      ]
     },
     "metadata": {},
     "output_type": "display_data"
    }
   ],
   "source": [
    "from Graph import generate_video\n",
    "\n",
    "save_folder = os.getcwd()  # Directorio actual\n",
    "scene = graph(points, camera_data=sagital, interactive=False, labels=True, mode=region_name)\n",
    "generate_video(scene, save_folder, video_name=region_name, duration=30, fps=30, azimuth=1)\n"
   ]
  },
  {
   "cell_type": "markdown",
   "id": "f2120268-b33e-4989-9c60-fcfcafc859e4",
   "metadata": {},
   "source": [
    "## Busqueda en atlas"
   ]
  },
  {
   "cell_type": "markdown",
   "id": "1fe237d0-418c-4f97-9809-20fc2dc128f6",
   "metadata": {},
   "source": [
    "Tabular los puntos mostrados en la imagen"
   ]
  },
  {
   "cell_type": "code",
   "execution_count": null,
   "id": "f3702880-97b2-48f0-88fc-893caec852a1",
   "metadata": {},
   "outputs": [],
   "source": [
    "get_point_locations(region_name=\"CA1v\")"
   ]
  },
  {
   "cell_type": "code",
   "execution_count": null,
   "id": "84a3f4fd-fcf3-45cf-876c-44325210d7b5",
   "metadata": {},
   "outputs": [],
   "source": [
    "%matplotlib qt\n",
    "\n",
    "from matplotlib import pyplot as plt\n",
    "from brainglobe_atlasapi import BrainGlobeAtlas\n",
    "from pprint import pprint\n",
    "import numpy as np\n",
    "\n",
    "bg_atlas = BrainGlobeAtlas(\"whs_sd_rat_39um\", check_latest=True)\n",
    "#bg_atlas.structures[\"root\"]\n",
    "\n",
    "space = bg_atlas.space\n",
    "stack = bg_atlas.annotation\n",
    "\n",
    "f, axs = plt.subplots(1,3, figsize=(12, 3))\n",
    "for i, (plane, labels) in enumerate(zip(space.sections, space.axis_labels)):\n",
    "    mid_index = stack.shape[i]//2\n",
    "    axs[i].imshow(np.moveaxis(stack,i,0)[mid_index,:,:], cmap=\"gray\",clim=(0,1250))\n",
    "    axs[i].set_title(f\"{plane.capitalize()} view\")\n",
    "    axs[i].set_ylabel(labels[0])\n",
    "    axs[i].set_xlabel(labels[1])"
   ]
  },
  {
   "cell_type": "code",
   "execution_count": null,
   "id": "f2dbac06-4f65-49df-beaa-fe7b4badc94a",
   "metadata": {},
   "outputs": [],
   "source": [
    "atlas_res = 39\n",
    "AP = 371 * atlas_res\n",
    "DV = 72 * atlas_res\n",
    "ML = 266 * atlas_res\n",
    "bregma = (AP, DV, ML)\n",
    "\n",
    "print(\"By coordinates:\", bg_atlas.structure_from_coords((AP+5510.68, DV+1594.92, ML+1219.21), \n",
    "                                                        as_acronym=True, \n",
    "                                                        microns=True))\n"
   ]
  },
  {
   "cell_type": "code",
   "execution_count": null,
   "id": "b252b938-258a-45b8-9e98-c09254b2e866",
   "metadata": {},
   "outputs": [],
   "source": [
    "from brainglobe_atlasapi import BrainGlobeAtlas\n",
    "from pprint import pprint\n",
    "\n",
    "# Cargar el atlas\n",
    "bg_atlas = BrainGlobeAtlas(\"whs_sd_rat_39um\", check_latest=False)\n",
    "\n",
    "# Definir la palabra clave de búsqueda\n",
    "keyword = \"PER36\"  # Cambia esto por la palabra que buscas\n",
    "\n",
    "# Filtrar las regiones cuyos nombres contienen la palabra clave (ignora mayúsculas/minúsculas)\n",
    "matching_regions = {\n",
    "    v[\"acronym\"]: (v[\"id\"], v[\"name\"]) \n",
    "    for v in bg_atlas.structures.values()\n",
    "    if keyword.lower() in v[\"name\"].lower()\n",
    "}\n",
    "\n",
    "# Imprimir resultados\n",
    "for item in results:\n",
    "    print(item[0])\n",
    "\n"
   ]
  },
  {
   "cell_type": "code",
   "execution_count": null,
   "id": "4dbf8833-5603-40d2-b1ef-5b607811bb6f",
   "metadata": {},
   "outputs": [],
   "source": [
    "bg_atlas = BrainGlobeAtlas(\"whs_sd_rat_39um\", check_latest=False)\n",
    "\n",
    "base_dir=\"npy_points\"\n",
    "region_name = \"CA1v\"\n",
    "\n",
    "coords_file = os.path.join(base_dir, f\"{region_name}_offsets_coords.npy\")\n",
    "ID_file = os.path.join(base_dir, f\"{region_name}_offsets_ids.npy\")\n",
    "\n",
    "    # Verificar archivos\n",
    "if not os.path.exists(coords_file):\n",
    "    raise FileNotFoundError(f\"No se encontró el archivo de coordenadas: {coords_file}\")\n",
    "if not os.path.exists(ID_file):\n",
    "    raise FileNotFoundError(f\"No se encontró el archivo de nombres: {ID_file}\")\n",
    "\n",
    "    # Cargar los archivos\n",
    "loaded_coords = np.load(coords_file)\n",
    "loaded_ID = np.load(ID_file, allow_pickle=True)\n",
    "\n",
    "results = []\n",
    "\n",
    "for ID, coords in zip(loaded_ID, loaded_coords):\n",
    "    structure = bg_atlas.structure_from_coords(coords, as_acronym=True, microns=True)\n",
    "    matching_region = {v[\"name\"] \n",
    "        for v in bg_atlas.structures.values()\n",
    "        if structure in v[\"acronym\"]\n",
    "    }\n",
    "    \n",
    "    # Formatear las coordenadas\n",
    "    coords_formatted = tuple(round(float(c), 2) for c in coords)\n",
    "    \n",
    "    if structure == \"Outside atlas\":\n",
    "        print(f\"⚠️ Advertencia: El punto '{ID}' está fuera del atlas.\")\n",
    "    \n",
    "    results.append((ID, coords_formatted, structure, matching_region))\n",
    "\n",
    "for item in results:\n",
    "    print(item[0], item[3])\n",
    "\n"
   ]
  },
  {
   "cell_type": "code",
   "execution_count": null,
   "id": "41c1f1fc-ede1-4dea-969c-c7a98966d9fd",
   "metadata": {},
   "outputs": [],
   "source": [
    "# region_dict = {v[\"acronym\"]: (v[\"id\"], v[\"name\"]) for v in bg_atlas.structures.values()}\n",
    "# pprint(region_dict)\n",
    "\n",
    "region_dict = {(v[\"name\"]) for v in bg_atlas.structures.values()}\n",
    "pprint(region_dict)\n"
   ]
  },
  {
   "cell_type": "code",
   "execution_count": null,
   "id": "fa58a637-a1e7-48fb-a99b-ab85e36f9046",
   "metadata": {},
   "outputs": [],
   "source": [
    "bg_atlas.get_structure_descendants(\"RS\")"
   ]
  },
  {
   "cell_type": "code",
   "execution_count": null,
   "id": "705f4446-06b7-4c01-bc1b-0236708977e6",
   "metadata": {},
   "outputs": [],
   "source": [
    "print (bg_atlas.structures.tree)"
   ]
  }
 ],
 "metadata": {
  "kernelspec": {
   "display_name": "Python 3 (ipykernel)",
   "language": "python",
   "name": "python3"
  },
  "language_info": {
   "codemirror_mode": {
    "name": "ipython",
    "version": 3
   },
   "file_extension": ".py",
   "mimetype": "text/x-python",
   "name": "python",
   "nbconvert_exporter": "python",
   "pygments_lexer": "ipython3",
   "version": "3.10.16"
  }
 },
 "nbformat": 4,
 "nbformat_minor": 5
}
